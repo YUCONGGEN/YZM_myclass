{
 "cells": [
  {
   "cell_type": "code",
   "execution_count": 1,
   "id": "0666694d",
   "metadata": {},
   "outputs": [
    {
     "ename": "ModuleNotFoundError",
     "evalue": "No module named 'captcha'",
     "output_type": "error",
     "traceback": [
      "\u001b[1;31m---------------------------------------------------------------------------\u001b[0m",
      "\u001b[1;31mModuleNotFoundError\u001b[0m                       Traceback (most recent call last)",
      "\u001b[1;32m<ipython-input-1-e482e49a2174>\u001b[0m in \u001b[0;36m<module>\u001b[1;34m\u001b[0m\n\u001b[1;32m----> 1\u001b[1;33m \u001b[1;32mfrom\u001b[0m \u001b[0mcaptcha\u001b[0m\u001b[1;33m.\u001b[0m\u001b[0mimage\u001b[0m \u001b[1;32mimport\u001b[0m \u001b[0mImageCaptcha\u001b[0m\u001b[1;33m\u001b[0m\u001b[1;33m\u001b[0m\u001b[0m\n\u001b[0m\u001b[0;32m      2\u001b[0m \u001b[1;32mfrom\u001b[0m \u001b[0mPIL\u001b[0m \u001b[1;32mimport\u001b[0m \u001b[0mImage\u001b[0m\u001b[1;33m\u001b[0m\u001b[1;33m\u001b[0m\u001b[0m\n\u001b[0;32m      3\u001b[0m \u001b[1;32mimport\u001b[0m \u001b[0mrandom\u001b[0m\u001b[1;33m\u001b[0m\u001b[1;33m\u001b[0m\u001b[0m\n",
      "\u001b[1;31mModuleNotFoundError\u001b[0m: No module named 'captcha'"
     ]
    }
   ],
   "source": [
    "from captcha.image import ImageCaptcha\n",
    "from PIL import Image\n",
    "import random"
   ]
  },
  {
   "cell_type": "code",
   "execution_count": 2,
   "id": "d9476c0f",
   "metadata": {},
   "outputs": [],
   "source": [
    "numberOnly=[\"0\",\"1\",\"2\",\"3\",\"4\",\"5\",\"6\",\"7\",\"8\",\"9\",]"
   ]
  },
  {
   "cell_type": "code",
   "execution_count": 3,
   "id": "e10ea054",
   "metadata": {},
   "outputs": [],
   "source": [
    "def yzmText(dataSet=numberOnly,size=4):\n",
    "    return \"\".join([\"\".join(random.choice(dataSet)) for i in range(size)])"
   ]
  },
  {
   "cell_type": "code",
   "execution_count": 4,
   "id": "01e22f1f",
   "metadata": {},
   "outputs": [
    {
     "data": {
      "text/plain": [
       "'1311'"
      ]
     },
     "execution_count": 4,
     "metadata": {},
     "output_type": "execute_result"
    }
   ],
   "source": [
    "yzmText()"
   ]
  },
  {
   "cell_type": "code",
   "execution_count": 5,
   "id": "20a2983c",
   "metadata": {},
   "outputs": [],
   "source": [
    "def imageAndText(num):\n",
    "    for i in range(num):\n",
    "        text=yzmText() \n",
    "        image=ImageCaptcha()\n",
    "        image.write(text,\"./image/test_image/\"+text+\".jpg\")"
   ]
  },
  {
   "cell_type": "code",
   "execution_count": 6,
   "id": "13deac94",
   "metadata": {},
   "outputs": [],
   "source": [
    "imageAndText(200)"
   ]
  },
  {
   "cell_type": "code",
   "execution_count": null,
   "id": "f2cee6a5",
   "metadata": {},
   "outputs": [],
   "source": []
  }
 ],
 "metadata": {
  "kernelspec": {
   "display_name": "Python 3",
   "language": "python",
   "name": "python3"
  },
  "language_info": {
   "codemirror_mode": {
    "name": "ipython",
    "version": 3
   },
   "file_extension": ".py",
   "mimetype": "text/x-python",
   "name": "python",
   "nbconvert_exporter": "python",
   "pygments_lexer": "ipython3",
   "version": "3.8.8"
  }
 },
 "nbformat": 4,
 "nbformat_minor": 5
}
